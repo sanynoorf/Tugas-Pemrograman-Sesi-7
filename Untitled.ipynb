{
 "cells": [
  {
   "cell_type": "code",
   "execution_count": 2,
   "id": "c4efadee",
   "metadata": {},
   "outputs": [
    {
     "ename": "SyntaxError",
     "evalue": "invalid syntax (4094479191.py, line 11)",
     "output_type": "error",
     "traceback": [
      "\u001b[1;36m  File \u001b[1;32m\"C:\\Users\\Sany Noor\\AppData\\Local\\Temp\\ipykernel_8512\\4094479191.py\"\u001b[1;36m, line \u001b[1;32m11\u001b[0m\n\u001b[1;33m    ======Program untuk membalik sebuah kalimat=====\u001b[0m\n\u001b[1;37m    ^\u001b[0m\n\u001b[1;31mSyntaxError\u001b[0m\u001b[1;31m:\u001b[0m invalid syntax\n"
     ]
    }
   ],
   "source": [
    "print(\"======Program untuk membalik sebuah kalimat=====\")\n",
    "kalimat = str(input(\"Masukan Kalimat :\"))\n",
    "balik = \"\"\n",
    "\n",
    "for i in range(len(kalimat)-1,-1,-1):\n",
    "    balik +=kalimat[i]\n",
    "print(\"Kalimat sebelum di balik yaitu :\",kalimat)\n",
    "print(\"Kalimat setelah di balik adalah :\",balik) \n",
    "print(\"==================Selesai=======================\")\n",
    "\n",
    "======Program untuk membalik sebuah kalimat=====\n",
    "Masukan Kalimat :LUPA-LUPA INGAT\n",
    "Kalimat sebelum di balik yaitu : LUPA-LUPA INGAT\n",
    "Kalimat setelah di balik adalah : TAGNI APUL-APUL\n",
    "==================Selesai=======================\n",
    "\n",
    "print(\"=====Program menghitung jumlah masing-masing huruf vokal=====\")"
   ]
  },
  {
   "cell_type": "code",
   "execution_count": null,
   "id": "49c4e940",
   "metadata": {},
   "outputs": [],
   "source": []
  }
 ],
 "metadata": {
  "kernelspec": {
   "display_name": "Python 3 (ipykernel)",
   "language": "python",
   "name": "python3"
  },
  "language_info": {
   "codemirror_mode": {
    "name": "ipython",
    "version": 3
   },
   "file_extension": ".py",
   "mimetype": "text/x-python",
   "name": "python",
   "nbconvert_exporter": "python",
   "pygments_lexer": "ipython3",
   "version": "3.9.13"
  }
 },
 "nbformat": 4,
 "nbformat_minor": 5
}
